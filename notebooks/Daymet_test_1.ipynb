{
 "cells": [
  {
   "cell_type": "code",
   "execution_count": null,
   "metadata": {},
   "outputs": [],
   "source": [
    "%matplotlib inline\n",
    "%pylab inline\n",
    "pylab.rcParams['figure.figsize'] = (10.0, 8.0)\n",
    "\n",
    "import geopandas as gpd\n",
    "import pandas as pd\n",
    "import glob\n",
    "import zipfile\n",
    "import rasterio\n",
    "import os\n",
    "import xarray as xr\n",
    "import json"
   ]
  },
  {
   "cell_type": "code",
   "execution_count": null,
   "metadata": {},
   "outputs": [],
   "source": [
    "print(os.getcwd())\n",
    "from pathlib import Path\n",
    "folder = Path(r'../Data') # assumes working directory is onhm-fetcher-parser\n",
    "print(folder)\n",
    "shapefiles = folder.glob(\"*_0[1-2].shp\")\n",
    "#shapefiles = folder.glob(\"*.shp\")\n",
    "gdf = pd.concat([\n",
    "    gpd.read_file(shp)\n",
    "    for shp in shapefiles\n",
    "]).pipe(gpd.GeoDataFrame)\n",
    "gdf.reset_index(drop=True, inplace=True)\n",
    "# gdf.plot()\n",
    "print(gdf)"
   ]
  },
  {
   "cell_type": "markdown",
   "metadata": {},
   "source": [
    "The code below (used when all hru shapefiles are read) is not optimum because it's base on the centroid of the hrus.  Therefore these boundary values are better and cover hrus outside the conus -126 54 -65 23"
   ]
  },
  {
   "cell_type": "code",
   "execution_count": 3,
   "metadata": {},
   "outputs": [
    {
     "name": "stdout",
     "output_type": "stream",
     "text": [
      "-80.54027121799999 48.100042571000074 -66.94953853699997 36.64632387200004\n"
     ]
    }
   ],
   "source": [
    "type(gdf['geometry'].bounds['minx'])\n",
    "west = gdf['geometry'].bounds['minx'].min()\n",
    "east = gdf['geometry'].bounds['maxx'].max()\n",
    "south = gdf['geometry'].bounds['miny'].min()\n",
    "north = gdf['geometry'].bounds['maxy'].max()\n",
    "print(west, north, east, south)"
   ]
  },
  {
   "cell_type": "markdown",
   "metadata": {},
   "source": [
    "#### Some example URLs for tmax\n",
    "\n",
    "https://thredds.daac.ornl.gov/thredds/ncss/ornldaac/1328/2018/daymet_v3_tmax_2018_na.nc4?var=lat&var=lon&var=tmax&north=54&west=-126&east=-65&south=23&horizStride=1&time_start=2018-01-01T12%3A00%3A00Z&time_end=2018-12-31T12%3A00%3A00Z&timeStride=1&accept=netcdf\n",
    "\n",
    "https://thredds.daac.ornl.gov/thredds/ncss/ornldaac/1328/2018/daymet_v3_tmax_2018_na.nc4?var=lat&var=lon&var=tmax&north=54&west=-126&east=-65&south=23&disableProjSubset=on&horizStride=1&time_start=2018-01-01T12%3A00%3A00Z&time_end=2018-01-01T12%3A00%3A00Z&timeStride=1&accept=netcdf\n",
    " \n"
   ]
  },
  {
   "cell_type": "code",
   "execution_count": null,
   "metadata": {},
   "outputs": [],
   "source": [
    "import requests\n",
    "from requests.exceptions import HTTPError\n",
    "from datetime import datetime, timedelta\n",
    "from urllib.parse import urlencode\n",
    "\n",
    "prcpurl = 'https://thredds.daac.ornl.gov/thredds/ncss/ornldaac/1328/2018/daymet_v3_tmax_2018_na.nc4'\n",
    "prcppayload = {\n",
    "    'var': 'lat&var=lon&var=tmax',\n",
    "    'north': '54',\n",
    "    'west': '-126',\n",
    "    'east': '-65',\n",
    "    'south': '23',\n",
    "    'disableProjSubset': 'on',\n",
    "    'horizStride': '1',\n",
    "    'time_start': '2018-12-31T00:00:00Z',\n",
    "    'time_end': '2018-12-31T00:00:00Z',\n",
    "    'timeStride': '1',\n",
    "    'accept': 'netcdf'}    \n",
    "try:\n",
    "    s = requests.Session()\n",
    "    #https://github.com/psf/requests/issues/1454\n",
    "    qry = urlencode(prcppayload).replace('%26','&')\n",
    "    qry = qry.replace('%3D', '=')\n",
    "    print(qry)\n",
    "    tmaxfile = requests.get(prcpurl, params=qry)\n",
    "    tmaxfile.raise_for_status()\n",
    "except HTTPError as http_err:\n",
    "    print(f'HTTP error occured: {http_err}')\n",
    "except Exception as err:\n",
    "    print(f'Other error occured: {err}')\n",
    "else:\n",
    "    print('Gridmet data retrieved!')"
   ]
  },
  {
   "cell_type": "code",
   "execution_count": null,
   "metadata": {},
   "outputs": [],
   "source": [
    "with open('tmax_test2.nc', 'wb') as fh:\n",
    "    fh.write(tmaxfile.content)\n",
    "fh.close"
   ]
  },
  {
   "cell_type": "code",
   "execution_count": 4,
   "metadata": {},
   "outputs": [
    {
     "name": "stdout",
     "output_type": "stream",
     "text": [
      "tmax_test2.nc\n",
      "<xarray.Dataset>\n",
      "Dimensions:                  (time: 1, x: 5904, y: 3377)\n",
      "Coordinates:\n",
      "  * y                        (y) float32 1687.0 1686.0 ... -1688.0 -1689.0\n",
      "  * x                        (x) float32 -2650.25 -2649.25 ... 3251.75 3252.75\n",
      "  * time                     (time) datetime64[ns] 2018-12-30T12:00:00\n",
      "Data variables:\n",
      "    lat                      (y, x) float32 ...\n",
      "    lambert_conformal_conic  int16 ...\n",
      "    lon                      (y, x) float32 ...\n",
      "    tmax                     (time, y, x) float32 ...\n",
      "Attributes:\n",
      "    _NCProperties:       version=1|netcdflibversion=4.6.1|hdf5libversion=1.10.2\n",
      "    start_year:          2018\n",
      "    source:              Daymet Software Version 3.0\n",
      "    Version_software:    Daymet Software Version 3.0\n",
      "    Version_data:        Daymet Data Version 3.0\n",
      "    Conventions:         CF-1.6\n",
      "    citation:            Please see http://daymet.ornl.gov/ for current Dayme...\n",
      "    references:          Please see http://daymet.ornl.gov/ for current infor...\n",
      "    History:             Translated to CF-1.0 Conventions by Netcdf-Java CDM ...\n",
      "    geospatial_lat_min:  21.185654454541883\n",
      "    geospatial_lat_max:  58.14529038788518\n",
      "    geospatial_lon_min:  -141.7181355648655\n",
      "    geospatial_lon_max:  -50.72062839852924\n",
      "\n",
      " The meta data is: \n",
      " OrderedDict([('_NCProperties', 'version=1|netcdflibversion=4.6.1|hdf5libversion=1.10.2'), ('start_year', 2018), ('source', 'Daymet Software Version 3.0'), ('Version_software', 'Daymet Software Version 3.0'), ('Version_data', 'Daymet Data Version 3.0'), ('Conventions', 'CF-1.6'), ('citation', 'Please see http://daymet.ornl.gov/ for current Daymet data citation information'), ('references', 'Please see http://daymet.ornl.gov/ for current information on Daymet references'), ('History', 'Translated to CF-1.0 Conventions by Netcdf-Java CDM (CFGridWriter2)\\nOriginal Dataset = /daymet/V3/CFMosaic/2018/daymet_v3_tmax_2018_na.nc4; Translation Date = 2019-12-19T17:42:53.244Z'), ('geospatial_lat_min', 21.185654454541883), ('geospatial_lat_max', 58.14529038788518), ('geospatial_lon_min', -141.7181355648655), ('geospatial_lon_max', -50.72062839852924)])\n",
      "\n",
      " The crs meta data is \n",
      " OrderedDict([('grid_mapping_name', 'lambert_conformal_conic'), ('longitude_of_central_meridian', -100.0), ('latitude_of_projection_origin', 42.5), ('false_easting', 0.0), ('false_northing', 0.0), ('standard_parallel', array([25., 60.])), ('semi_major_axis', 6378137.0), ('inverse_flattening', 298.257223563), ('_CoordinateTransformType', 'Projection'), ('_CoordinateAxisTypes', 'GeoX GeoY')])\n",
      "<xarray.DataArray 'tmax' (time: 1, y: 3377, x: 5904)>\n",
      "[19937808 values with dtype=float32]\n",
      "Coordinates:\n",
      "  * y        (y) float32 1687.0 1686.0 1685.0 1684.0 ... -1687.0 -1688.0 -1689.0\n",
      "  * x        (x) float32 -2650.25 -2649.25 -2648.25 ... 3250.75 3251.75 3252.75\n",
      "  * time     (time) datetime64[ns] 2018-12-30T12:00:00\n",
      "Attributes:\n",
      "    long_name:     daily maximum temperature\n",
      "    units:         degrees C\n",
      "    grid_mapping:  lambert_conformal_conic\n",
      "    cell_methods:  area: mean time: maximum\n",
      "    _ChunkSizes:   [   1 1000 1000]\n",
      "\n",
      " Data attributes, sizes, and coords \n",
      "\n",
      "\n",
      " Data attributes are: \n",
      " OrderedDict([('long_name', 'daily maximum temperature'), ('units', 'degrees C'), ('grid_mapping', 'lambert_conformal_conic'), ('cell_methods', 'area: mean time: maximum'), ('_ChunkSizes', array([   1, 1000, 1000]))])\n",
      "\n",
      " Data sizes are: \n",
      " Frozen(OrderedDict([('time', 1), ('y', 3377), ('x', 5904)]))\n",
      "\n",
      " Data coords are: \n",
      " Coordinates:\n",
      "  * y        (y) float32 1687.0 1686.0 1685.0 1684.0 ... -1687.0 -1688.0 -1689.0\n",
      "  * x        (x) float32 -2650.25 -2649.25 -2648.25 ... 3250.75 3251.75 3252.75\n",
      "  * time     (time) datetime64[ns] 2018-12-30T12:00:00\n",
      "\n",
      " Lat coords are: \n",
      " OrderedDict([('units', 'degrees_north'), ('long_name', 'latitude coordinate'), ('standard_name', 'latitude'), ('_ChunkSizes', array([1010,  977])), ('_CoordinateAxisType', 'Lat'), ('grid_mapping', 'lambert_conformal_conic')])\n",
      "<class 'xarray.core.utils.Frozen'>\n",
      "1\n",
      "1 5904 3377\n"
     ]
    }
   ],
   "source": [
    "#=========================================================\n",
    "#            MACAV2METDATA FILE PARAMETERS\n",
    "#=========================================================\n",
    "# dirPath='https://thredds.daac.ornl.gov/thredds/ncss/ornldaac/1328/2018/daymet_v3_prcp_2018_na.nc4?var=lat&var=lon&var=prcp&north=52.880049298000074+&west=-124.72462483099997+&east=-66.94953853699997+&south=24.839424370000074&disableLLSubset=on&disableProjSubset=on&horizStride=1&time_start=2018-12-31T00:00:00Z&time_end=2018-12-31T00:00:00Z&timeStride=1&accept=netcdf'\n",
    "# fileName='/thredds/dodsC/MET/tmmx/tmmx_2019.nc'\n",
    "dirPath = 'tmax_test2.nc'\n",
    "# dirPath = 'daymet_v3_tmax_2018_na.nc4.nc'\n",
    "#--------------------------------------------------------\n",
    "#   FORM FILENAME AND GET HANDLE TO FILE AND DATA\n",
    "#--------------------------------------------------------\n",
    "fullfilename= dirPath\n",
    "print(fullfilename)\n",
    "\n",
    "ds = xr.open_dataset(fullfilename)\n",
    "\n",
    "print(ds)\n",
    "\n",
    "# df = ds.to_dataframe()\n",
    "\n",
    "print('\\n The meta data is: \\n', ds.attrs)\n",
    "lathandle=ds['lat']\n",
    "lonhandle=ds['lon']\n",
    "timehandle=ds['time']\n",
    "datahandle=ds['tmax']\n",
    "dhlat = ds['lat']\n",
    "dhlon = ds['lon']\n",
    "crshandle=ds['lambert_conformal_conic']\n",
    "print('\\n The crs meta data is \\n', crshandle.attrs)\n",
    "print(datahandle)\n",
    "# crstransform = crshandle.attrs['GeoTransform']\n",
    "# print(crstransform)\n",
    "\n",
    "#collect data to describe geotransform\n",
    "lonmin = float(ds.attrs['geospatial_lon_min'])\n",
    "latmax = float(ds.attrs['geospatial_lat_max'])\n",
    "# lonres = float(ds.attrs['geospatial_lon_resolution'])\n",
    "# latres = float(ds.attrs['geospatial_lon_resolution'])\n",
    "\n",
    "#Print some information on the data\n",
    "\n",
    "print('\\n Data attributes, sizes, and coords \\n') \n",
    "print('\\n Data attributes are: \\n',datahandle.attrs)\n",
    "print('\\n Data sizes are: \\n', datahandle.sizes)\n",
    "print('\\n Data coords are: \\n', datahandle.coords)\n",
    "print('\\n Lat coords are: \\n', dhlat.attrs)\n",
    "\n",
    "ts = datahandle.sizes\n",
    "print(type(ts))\n",
    "print(ts['time'])\n",
    "dayshape = ts['time']\n",
    "Lonshape = ts['x']\n",
    "Latshape = ts['y']\n",
    "#dayshape,lonshape,latshape = datahandle.values.shape\n",
    "print(dayshape, Lonshape, Latshape)\n",
    "\n",
    "# datahandle.values[dayshape-1,:,:].shape\n",
    "\n",
    "# print(lathandle.values.shape)\n",
    "# print(type(lathandle.values))\n",
    "# print(datahandle.dtype)\n",
    "# print(np.isfortran(datahandle.values))"
   ]
  },
  {
   "cell_type": "code",
   "execution_count": null,
   "metadata": {},
   "outputs": [],
   "source": [
    "ds.variables.keys()"
   ]
  },
  {
   "cell_type": "code",
   "execution_count": null,
   "metadata": {},
   "outputs": [],
   "source": [
    "tmax = ds.variables['tmax'][:]  # Reads the whole array\n",
    "tmax"
   ]
  },
  {
   "cell_type": "code",
   "execution_count": null,
   "metadata": {},
   "outputs": [],
   "source": [
    "ds.tmax.plot()"
   ]
  },
  {
   "cell_type": "code",
   "execution_count": null,
   "metadata": {},
   "outputs": [],
   "source": [
    "f1, ax1 = plt.subplots(1)\n",
    "ax1.set_aspect('equal')\n",
    "# ax1.set(xlim=(-130, -60), ylim=(20, 55))\n",
    "ptmax = ds.tmax\n",
    "ptmax_1 = ptmax.isel(time=0)\n",
    "print(type(ptmax_1))\n",
    "print(ptmax_1.shape)\n",
    "# ptmax_1.plot(ax=ax1, x='x', y='y', cmap='viridis')\n",
    "ds.tmax.plot(ax=ax1, x='x', y='y')\n",
    "f1.tight_layout()\n",
    "f1.savefig('daymet.png')"
   ]
  },
  {
   "cell_type": "code",
   "execution_count": null,
   "metadata": {},
   "outputs": [],
   "source": [
    "import cartopy.crs as ccrs\n",
    "ax = plt.subplot(projection=ccrs.PlateCarree());\n",
    "ds.tmax.plot(ax=ax);\n",
    "# ax.scatter(ds.lon, ds.lat, transform=ccrs.PlateCarree(),s=0.001);\n",
    "# ax.coastlines(); \n",
    "ax.gridlines(draw_labels=True);\n",
    "fig = plt.gcf()\n",
    "fig.set_size_inches(15,15)"
   ]
  },
  {
   "cell_type": "code",
   "execution_count": null,
   "metadata": {},
   "outputs": [],
   "source": [
    "for i in range(1,10): print(i)"
   ]
  },
  {
   "cell_type": "code",
   "execution_count": 5,
   "metadata": {},
   "outputs": [
    {
     "name": "stdout",
     "output_type": "stream",
     "text": [
      "3377 5904\n"
     ]
    }
   ],
   "source": [
    "lon = ds.lon.values\n",
    "lat = ds.lat.values\n",
    "print(np.shape(lon)[0], np.shape(lon)[1])"
   ]
  },
  {
   "cell_type": "code",
   "execution_count": null,
   "metadata": {},
   "outputs": [],
   "source": [
    "from shapely.geometry import Polygon\n",
    "def distance(p1x, p1y, p2x, p2y):\n",
    "    return np.sqrt(np.power((p2x-p1x),2) + np.power((p2y-p1y),2))\n",
    "\n",
    "#first create dataframe with temp\n",
    "df = pd.DataFrame({'temperature': ds.tmax.values.flatten()})\n",
    "res = 0.04166666/2.0\n",
    "numcells = (np.shape(lat)[0]-2)*(np.shape(lat)[1]-2) # -2 to ignore boundaries, daymet domain should well overlap conus\n",
    "poly = []\n",
    "index = np.zeros(numcells)\n",
    "count = 0\n",
    "# ncfcell = gpd.GeoDataFrame()\n",
    "# ncfcell['geometry'] = None\n",
    "\n",
    "for i in range(1, np.shape(lon)[0]-1):\n",
    "    if i%10 == 0: print(i)\n",
    "    for j in range(1, np.shape(lon)[1]-1):\n",
    "        l1 = distance(lon[i,j], lat[i,j], lon[i,j-1], lat[i,j-1])/2.0\n",
    "        l2 = distance(lon[i,j], lat[i,j], lon[i+1,j], lat[i+1,j])/2.0\n",
    "        l3 = distance(lon[i,j], lat[i,j], lon[i,j-1], lat[i,j-1])/2.0\n",
    "        l4 = distance(lon[i,j], lat[i,j], lon[i-1,j], lat[i-1,j])/2.0\n",
    "        \n",
    "        lon_point_list = [lon[i,j]+l2, lon[i,j]+l2, lon[i,j]-l4, lon[i,j]-l4]\n",
    "        lat_point_list = [lat[i,j]-l1, lat[i,j]+l3, lat[i,j]+l3, lat[i,j]-l1]\n",
    "        \n",
    "        poly.append(Polygon(zip(lon_point_list, lat_point_list)))\n",
    "        index[count] = count\n",
    "        count += 1\n",
    "# ncfcells = gpd.GeoDataFrame(df, index=index, crs=ds['crs'], geometry=poly)  \n",
    "ncfcells = gpd.GeoDataFrame(df, index=index, geometry=poly)  \n",
    "ncfcells.head()"
   ]
  },
  {
   "cell_type": "code",
   "execution_count": null,
   "metadata": {},
   "outputs": [],
   "source": []
  },
  {
   "cell_type": "code",
   "execution_count": null,
   "metadata": {},
   "outputs": [],
   "source": [
    "ncfcells.to_csv('daymet_cells.csv')"
   ]
  },
  {
   "cell_type": "code",
   "execution_count": null,
   "metadata": {},
   "outputs": [],
   "source": [
    "len(ncfcells)"
   ]
  },
  {
   "cell_type": "code",
   "execution_count": null,
   "metadata": {},
   "outputs": [],
   "source": [
    "ncfcells[len(ncfcells)-10:len(ncfcells)].plot()"
   ]
  },
  {
   "cell_type": "code",
   "execution_count": null,
   "metadata": {},
   "outputs": [],
   "source": [
    "ncfcells[0:10].plot()"
   ]
  },
  {
   "cell_type": "code",
   "execution_count": null,
   "metadata": {},
   "outputs": [],
   "source": [
    "spatial_index = ncfcells.sindex\n",
    "print(type(gdf.loc[[0]]))\n",
    "\n",
    "import csv\n",
    "tcount = 0\n",
    "with open('daymet_weights_t.csv', 'w', newline='') as f:\n",
    "    writer = csv.writer(f, delimiter=',', quotechar='\"', quoting=csv.QUOTE_MINIMAL)\n",
    "    for index, row in gdf.iterrows():\n",
    "        count = 0\n",
    "        if tcount == 0:\n",
    "            writer.writerow(['grid_ids', 'hru_id_nat', 'w'])\n",
    "        possible_matches_index = list(spatial_index.intersection(row['geometry'].bounds))\n",
    "        possible_matches = ncfcells.iloc[possible_matches_index]\n",
    "        precise_matches = possible_matches[possible_matches.intersects(row['geometry'])]\n",
    "        res_intersection = gpd.overlay(gdf.loc[[index]], precise_matches, how='intersection')\n",
    "        for nindex, row in res_intersection.iterrows():\n",
    "            tmpfloat = np.float(res_intersection.area.iloc[nindex]/gdf.loc[[index], 'geometry'].area)\n",
    "            writer.writerow([np.int(precise_matches.index[count]), np.int(row['hru_id_nat']), tmpfloat])\n",
    "            count += 1\n",
    "        tcount += 1\n",
    "        print(tcount, index)"
   ]
  },
  {
   "cell_type": "code",
   "execution_count": 6,
   "metadata": {},
   "outputs": [
    {
     "name": "stdout",
     "output_type": "stream",
     "text": [
      "10\n",
      "20\n",
      "30\n",
      "40\n",
      "50\n",
      "60\n",
      "70\n",
      "80\n",
      "90\n",
      "100\n",
      "110\n",
      "120\n",
      "130\n",
      "140\n",
      "150\n",
      "160\n",
      "170\n",
      "180\n",
      "190\n",
      "200\n",
      "210\n",
      "220\n",
      "230\n",
      "240\n",
      "250\n",
      "260\n",
      "270\n",
      "280\n",
      "290\n",
      "300\n",
      "310\n",
      "320\n",
      "330\n",
      "340\n",
      "350\n",
      "360\n",
      "370\n",
      "380\n",
      "390\n",
      "400\n",
      "410\n",
      "420\n",
      "430\n",
      "440\n",
      "450\n",
      "460\n",
      "470\n",
      "480\n",
      "490\n",
      "500\n",
      "510\n",
      "520\n",
      "530\n",
      "540\n",
      "550\n",
      "560\n",
      "570\n",
      "580\n",
      "590\n",
      "600\n",
      "610\n",
      "620\n",
      "630\n",
      "640\n",
      "650\n",
      "660\n",
      "670\n",
      "680\n",
      "690\n",
      "700\n",
      "710\n",
      "720\n",
      "730\n",
      "740\n",
      "750\n",
      "760\n",
      "770\n",
      "780\n",
      "790\n",
      "800\n",
      "810\n",
      "820\n",
      "830\n",
      "840\n",
      "850\n",
      "860\n",
      "870\n",
      "880\n",
      "890\n",
      "900\n",
      "910\n",
      "920\n",
      "930\n",
      "940\n",
      "950\n",
      "960\n",
      "970\n",
      "980\n",
      "990\n",
      "1000\n",
      "1010\n",
      "1020\n",
      "1030\n",
      "1040\n",
      "1050\n",
      "1060\n",
      "1070\n",
      "1080\n",
      "1090\n",
      "1100\n",
      "1110\n",
      "1120\n",
      "1130\n",
      "1140\n",
      "1150\n",
      "1160\n",
      "1170\n",
      "1180\n",
      "1190\n",
      "1200\n",
      "1210\n",
      "1220\n",
      "1230\n",
      "1240\n",
      "1250\n",
      "1260\n",
      "1270\n",
      "1280\n",
      "1290\n",
      "1300\n",
      "1310\n",
      "1320\n",
      "1330\n",
      "1340\n",
      "1350\n",
      "1360\n",
      "1370\n",
      "1380\n",
      "1390\n",
      "1400\n",
      "1410\n",
      "1420\n",
      "1430\n",
      "1440\n",
      "1450\n",
      "1460\n",
      "1470\n",
      "1480\n",
      "1490\n",
      "1500\n",
      "1510\n",
      "1520\n",
      "1530\n",
      "1540\n",
      "1550\n",
      "1560\n",
      "1570\n",
      "1580\n",
      "1590\n",
      "1600\n",
      "1610\n",
      "1620\n",
      "1630\n",
      "1640\n",
      "1650\n",
      "1660\n",
      "1670\n",
      "1680\n",
      "1690\n",
      "1700\n",
      "1710\n",
      "1720\n",
      "1730\n",
      "1740\n",
      "1750\n",
      "1760\n",
      "1770\n",
      "1780\n",
      "1790\n",
      "1800\n",
      "1810\n",
      "1820\n",
      "1830\n",
      "1840\n",
      "1850\n",
      "1860\n",
      "1870\n",
      "1880\n",
      "1890\n",
      "1900\n",
      "1910\n",
      "1920\n",
      "1930\n",
      "1940\n",
      "1950\n",
      "1960\n",
      "1970\n",
      "1980\n",
      "1990\n",
      "2000\n",
      "2010\n",
      "2020\n",
      "2030\n",
      "2040\n",
      "2050\n",
      "2060\n",
      "2070\n",
      "2080\n",
      "2090\n",
      "2100\n",
      "2110\n",
      "2120\n",
      "2130\n",
      "2140\n",
      "2150\n",
      "2160\n",
      "2170\n",
      "2180\n",
      "2190\n",
      "2200\n",
      "2210\n",
      "2220\n",
      "2230\n",
      "2240\n",
      "2250\n",
      "2260\n",
      "2270\n",
      "2280\n",
      "2290\n",
      "2300\n",
      "2310\n",
      "2320\n",
      "2330\n",
      "2340\n",
      "2350\n",
      "2360\n",
      "2370\n",
      "2380\n",
      "2390\n",
      "2400\n",
      "2410\n",
      "2420\n",
      "2430\n",
      "2440\n",
      "2450\n",
      "2460\n",
      "2470\n",
      "2480\n",
      "2490\n",
      "2500\n",
      "2510\n",
      "2520\n",
      "2530\n",
      "2540\n",
      "2550\n",
      "2560\n",
      "2570\n",
      "2580\n",
      "2590\n",
      "2600\n",
      "2610\n",
      "2620\n",
      "2630\n",
      "2640\n",
      "2650\n",
      "2660\n",
      "2670\n",
      "2680\n",
      "2690\n",
      "2700\n",
      "2710\n",
      "2720\n",
      "2730\n",
      "2740\n",
      "2750\n",
      "2760\n",
      "2770\n",
      "2780\n",
      "2790\n",
      "2800\n",
      "2810\n",
      "2820\n",
      "2830\n",
      "2840\n",
      "2850\n",
      "2860\n",
      "2870\n",
      "2880\n",
      "2890\n",
      "2900\n",
      "2910\n",
      "2920\n",
      "2930\n",
      "2940\n",
      "2950\n",
      "2960\n",
      "2970\n",
      "2980\n",
      "2990\n",
      "3000\n",
      "3010\n",
      "3020\n",
      "3030\n",
      "3040\n",
      "3050\n",
      "3060\n",
      "3070\n",
      "3080\n",
      "3090\n",
      "3100\n",
      "3110\n",
      "3120\n",
      "3130\n",
      "3140\n",
      "3150\n",
      "3160\n",
      "3170\n",
      "3180\n",
      "3190\n",
      "3200\n",
      "3210\n",
      "3220\n",
      "3230\n",
      "3240\n",
      "3250\n",
      "3260\n",
      "3270\n",
      "3280\n",
      "3290\n",
      "3300\n",
      "3310\n",
      "3320\n",
      "3330\n",
      "3340\n",
      "3350\n",
      "3360\n",
      "3370\n"
     ]
    },
    {
     "data": {
      "text/html": [
       "<div>\n",
       "<style scoped>\n",
       "    .dataframe tbody tr th:only-of-type {\n",
       "        vertical-align: middle;\n",
       "    }\n",
       "\n",
       "    .dataframe tbody tr th {\n",
       "        vertical-align: top;\n",
       "    }\n",
       "\n",
       "    .dataframe thead th {\n",
       "        text-align: right;\n",
       "    }\n",
       "</style>\n",
       "<table border=\"1\" class=\"dataframe\">\n",
       "  <thead>\n",
       "    <tr style=\"text-align: right;\">\n",
       "      <th></th>\n",
       "      <th>temperature</th>\n",
       "      <th>geometry</th>\n",
       "    </tr>\n",
       "  </thead>\n",
       "  <tbody>\n",
       "    <tr>\n",
       "      <td>0.0</td>\n",
       "      <td>NaN</td>\n",
       "      <td>POLYGON ((-141.6904294091425 51.98694160502199...</td>\n",
       "    </tr>\n",
       "    <tr>\n",
       "      <td>1.0</td>\n",
       "      <td>NaN</td>\n",
       "      <td>POLYGON ((-141.6771850585938 51.99140548706055...</td>\n",
       "    </tr>\n",
       "    <tr>\n",
       "      <td>2.0</td>\n",
       "      <td>NaN</td>\n",
       "      <td>POLYGON ((-141.6639407080997 51.99586746181224...</td>\n",
       "    </tr>\n",
       "    <tr>\n",
       "      <td>3.0</td>\n",
       "      <td>NaN</td>\n",
       "      <td>POLYGON ((-141.6506930550548 52.00032848864491...</td>\n",
       "    </tr>\n",
       "    <tr>\n",
       "      <td>4.0</td>\n",
       "      <td>NaN</td>\n",
       "      <td>POLYGON ((-141.6374435424805 52.00478744506836...</td>\n",
       "    </tr>\n",
       "  </tbody>\n",
       "</table>\n",
       "</div>"
      ],
      "text/plain": [
       "     temperature                                           geometry\n",
       "0.0          NaN  POLYGON ((-141.6904294091425 51.98694160502199...\n",
       "1.0          NaN  POLYGON ((-141.6771850585938 51.99140548706055...\n",
       "2.0          NaN  POLYGON ((-141.6639407080997 51.99586746181224...\n",
       "3.0          NaN  POLYGON ((-141.6506930550548 52.00032848864491...\n",
       "4.0          NaN  POLYGON ((-141.6374435424805 52.00478744506836..."
      ]
     },
     "execution_count": 6,
     "metadata": {},
     "output_type": "execute_result"
    }
   ],
   "source": [
    "from shapely.geometry import Polygon\n",
    "def distance(p1x, p1y, p2x, p2y):\n",
    "    return np.sqrt(np.power((p2x-p1x),2) + np.power((p2y-p1y),2))\n",
    "\n",
    "#first create dataframe with temp\n",
    "df = pd.DataFrame({'temperature': ds.tmax.values.flatten()})\n",
    "res = 0.04166666/2.0\n",
    "numcells = (np.shape(lat)[0]-2)*(np.shape(lat)[1]-2) # -2 to ignore boundaries, daymet domain should well overlap conus\n",
    "poly = []\n",
    "index = np.zeros(numcells)\n",
    "count = 0\n",
    "# ncfcell = gpd.GeoDataFrame()\n",
    "# ncfcell['geometry'] = None\n",
    "\n",
    "for i in range(1, np.shape(lon)[0]-1):\n",
    "    if i%10 == 0: print(i)\n",
    "    for j in range(1, np.shape(lon)[1]-1):\n",
    "        \n",
    "        tpoly_1_lon = [lon[i,j], lon[i,j-1], lon[i+1,j-1], lon[i+1, j]]\n",
    "        tpoly_1_lat = [lat[i,j], lat[i,j-1], lat[i+1,j-1], lat[i+1, j]]\n",
    "        tpoly_1 = Polygon(zip(tpoly_1_lon, tpoly_1_lat))\n",
    "        p1 = tpoly_1.centroid\n",
    "        \n",
    "        tpoly_2_lon = [lon[i,j], lon[i+1,j], lon[i+1,j+1], lon[i, j+1]]\n",
    "        tpoly_2_lat = [lat[i,j], lat[i+1,j], lat[i+1,j+1], lat[i, j+1]]\n",
    "        tpoly_2 = Polygon(zip(tpoly_2_lon, tpoly_2_lat))\n",
    "        p2 = tpoly_2.centroid  \n",
    "        \n",
    "        tpoly_3_lon = [lon[i,j], lon[i,j+1], lon[i-1,j+1], lon[i-1, j]]\n",
    "        tpoly_3_lat = [lat[i,j], lat[i,j+1], lat[i-1,j+1], lat[i-1, j]]\n",
    "        tpoly_3 = Polygon(zip(tpoly_3_lon, tpoly_3_lat))\n",
    "        p3 = tpoly_3.centroid  \n",
    "\n",
    "        tpoly_4_lon = [lon[i,j], lon[i-1,j], lon[i-1,j-1], lon[i, j-1]]\n",
    "        tpoly_4_lat = [lat[i,j], lat[i-1,j], lat[i-1,j-1], lat[i, j-1]]\n",
    "        tpoly_4 = Polygon(zip(tpoly_4_lon, tpoly_4_lat))\n",
    "        p4 = tpoly_4.centroid  \n",
    "        \n",
    "#         l1 = distance(lon[i,j], lat[i,j], lon[i,j-1], lat[i,j-1])/2.0\n",
    "#         l2 = distance(lon[i,j], lat[i,j], lon[i+1,j], lat[i+1,j])/2.0\n",
    "#         l3 = distance(lon[i,j], lat[i,j], lon[i,j-1], lat[i,j-1])/2.0\n",
    "#         l4 = distance(lon[i,j], lat[i,j], lon[i-1,j], lat[i-1,j])/2.0\n",
    "        \n",
    "#         lon_point_list = [lon[i,j]+l2, lon[i,j]+l2, lon[i,j]-l4, lon[i,j]-l4]\n",
    "#         lat_point_list = [lat[i,j]-l1, lat[i,j]+l3, lat[i,j]+l3, lat[i,j]-l1]\n",
    "        \n",
    "        lon_point_list = [p1.x, p2.x, p3.x, p4.x]\n",
    "        lat_point_list = [p1.y, p2.y, p3.y, p4.y]\n",
    "        \n",
    "        poly.append(Polygon(zip(lon_point_list, lat_point_list)))\n",
    "        index[count] = count\n",
    "        count += 1\n",
    "# ncfcells = gpd.GeoDataFrame(df, index=index, crs=ds['crs'], geometry=poly)  \n",
    "ncfcells = gpd.GeoDataFrame(df, index=index, geometry=poly)  \n",
    "ncfcells.head()"
   ]
  },
  {
   "cell_type": "code",
   "execution_count": 34,
   "metadata": {},
   "outputs": [
    {
     "data": {
      "text/plain": [
       "<matplotlib.axes._subplots.AxesSubplot at 0x168ccc6d7b8>"
      ]
     },
     "execution_count": 34,
     "metadata": {},
     "output_type": "execute_result"
    },
    {
     "data": {
      "image/png": "[encoded data removed]",
      "text/plain": [
       "<Figure size 432x288 with 1 Axes>"
      ]
     },
     "metadata": {
      "needs_background": "light"
     },
     "output_type": "display_data"
    }
   ],
   "source": [
    "ncfcells[len(ncfcells)-10:len(ncfcells)].plot()"
   ]
  },
  {
   "cell_type": "code",
   "execution_count": 33,
   "metadata": {
    "jupyter": {
     "source_hidden": true
    }
   },
   "outputs": [
    {
     "data": {
      "text/plain": [
       "<matplotlib.axes._subplots.AxesSubplot at 0x168cac36588>"
      ]
     },
     "execution_count": 33,
     "metadata": {},
     "output_type": "execute_result"
    },
    {
     "data": {
      "image/png": "[encoded data removed]",
      "text/plain": [
       "<Figure size 432x288 with 1 Axes>"
      ]
     },
     "metadata": {
      "needs_background": "light"
     },
     "output_type": "display_data"
    }
   ],
   "source": [
    "ncfcells[0:10].plot()"
   ]
  },
  {
   "cell_type": "code",
   "execution_count": 9,
   "metadata": {},
   "outputs": [],
   "source": [
    "ncfcells.dropna(subset=['temperature'], inplace=True)"
   ]
  },
  {
   "cell_type": "code",
   "execution_count": 10,
   "metadata": {},
   "outputs": [
    {
     "data": {
      "text/plain": [
       "Float64Index([     679.0,      680.0,      681.0,      682.0,      683.0,\n",
       "                   684.0,      685.0,      686.0,      687.0,      688.0,\n",
       "              ...\n",
       "              19917090.0, 19917091.0, 19917092.0, 19917103.0, 19917104.0,\n",
       "              19917105.0, 19918757.0, 19918758.0, 19918759.0, 19918760.0],\n",
       "             dtype='float64', length=12351931)"
      ]
     },
     "execution_count": 10,
     "metadata": {},
     "output_type": "execute_result"
    }
   ],
   "source": [
    "ncfcells.index"
   ]
  },
  {
   "cell_type": "code",
   "execution_count": null,
   "metadata": {},
   "outputs": [],
   "source": [
    "ncfcells.to_csv('daymet_cells.csv')"
   ]
  },
  {
   "cell_type": "code",
   "execution_count": null,
   "metadata": {},
   "outputs": [],
   "source": [
    "ncfcells = gpd.read_file('daymet_cells.csv')"
   ]
  },
  {
   "cell_type": "code",
   "execution_count": 11,
   "metadata": {},
   "outputs": [
    {
     "data": {
      "text/plain": [
       "<geopandas.sindex.SpatialIndex at 0x168c0fa1ac8>"
      ]
     },
     "execution_count": 11,
     "metadata": {},
     "output_type": "execute_result"
    }
   ],
   "source": [
    "spatial_index = ncfcells.sindex\n",
    "# print(type(gdf.loc[[0]]))\n",
    "ncfcells.sindex"
   ]
  },
  {
   "cell_type": "code",
   "execution_count": null,
   "metadata": {},
   "outputs": [],
   "source": [
    "print(type(spatial_index))\n",
    "spatial_index\n"
   ]
  },
  {
   "cell_type": "code",
   "execution_count": 39,
   "metadata": {},
   "outputs": [
    {
     "data": {
      "text/plain": [
       "<matplotlib.axes._subplots.AxesSubplot at 0x168cccaf518>"
      ]
     },
     "execution_count": 39,
     "metadata": {},
     "output_type": "execute_result"
    },
    {
     "data": {
      "image/png": "[encoded data removed]",
      "text/plain": [
       "<Figure size 432x288 with 1 Axes>"
      ]
     },
     "metadata": {
      "needs_background": "light"
     },
     "output_type": "display_data"
    }
   ],
   "source": [
    "hru_1_ind =[8816431,8816432,8834138,8834137,8840039,8834140,8834139,\n",
    "            8845943,8851844,8851845,8822334,8822333,8828235,8822335,\n",
    "            8828237,8828236,8840041,8840040,8845942,8845941,8840042]\n",
    "# ncfcells.temperature[hru_1_ind].plot()\n",
    "ncfcells.temperature.plot()\n",
    "# print(type(ncfcells))\n",
    "# ax.plot()"
   ]
  },
  {
   "cell_type": "code",
   "execution_count": 40,
   "metadata": {},
   "outputs": [
    {
     "data": {
      "text/plain": [
       "<matplotlib.axes._subplots.AxesSubplot at 0x168d1c1d828>"
      ]
     },
     "execution_count": 40,
     "metadata": {},
     "output_type": "execute_result"
    },
    {
     "data": {
      "image/png": "[encoded data removed]",
      "text/plain": [
       "<Figure size 864x864 with 2 Axes>"
      ]
     },
     "metadata": {
      "needs_background": "light"
     },
     "output_type": "display_data"
    }
   ],
   "source": [
    "f, ax = plt.subplots(2, figsize=(12,12))\n",
    "ncfcells.plot(ax=ax[0], column = 'temperature',linewidth=0., edgecolor='white', scheme='quantiles')"
   ]
  },
  {
   "cell_type": "code",
   "execution_count": 15,
   "metadata": {},
   "outputs": [
    {
     "data": {
      "text/plain": [
       "[8816431,\n",
       " 8816432,\n",
       " 8834138,\n",
       " 8834137,\n",
       " 8840039,\n",
       " 8834140,\n",
       " 8834139,\n",
       " 8845943,\n",
       " 8851844,\n",
       " 8851845,\n",
       " 8822334,\n",
       " 8822333,\n",
       " 8828235,\n",
       " 8822335,\n",
       " 8828237,\n",
       " 8828236,\n",
       " 8840041,\n",
       " 8840040,\n",
       " 8845942,\n",
       " 8845941,\n",
       " 8840042]"
      ]
     },
     "execution_count": 15,
     "metadata": {},
     "output_type": "execute_result"
    }
   ],
   "source": [
    "hru_1_ind"
   ]
  },
  {
   "cell_type": "code",
   "execution_count": 42,
   "metadata": {},
   "outputs": [],
   "source": [
    "\n",
    "import csv\n",
    "tcount = 0\n",
    "with open('tmp_weights.csv', 'w', newline='') as f:\n",
    "    writer = csv.writer(f, delimiter=',', quotechar='\"', quoting=csv.QUOTE_MINIMAL)\n",
    "    for index, row in gdf.iterrows():\n",
    "        count = 0\n",
    "        if tcount == 0:\n",
    "            writer.writerow(['grid_ids', 'hru_id_nat', 'w'])\n",
    "        possible_matches_index = list(spatial_index.intersection(row['geometry'].bounds))\n",
    "        possible_matches = ncfcells.iloc[possible_matches_index]\n",
    "        precise_matches = possible_matches[possible_matches.intersects(row['geometry'])]\n",
    "        res_intersection = gpd.overlay(gdf.loc[[index]], precise_matches, how='intersection')\n",
    "        for nindex, row in res_intersection.iterrows():\n",
    "            tmpfloat = np.float(res_intersection.area.iloc[nindex]/gdf.loc[[index], 'geometry'].area)\n",
    "            writer.writerow([np.int(precise_matches.index[count]), np.int(row['hru_id_nat']), tmpfloat])\n",
    "            count += 1\n",
    "        tcount += 1\n",
    "        if tcount == 1:\n",
    "            break\n",
    "        print(tcount, index)"
   ]
  },
  {
   "cell_type": "code",
   "execution_count": 43,
   "metadata": {},
   "outputs": [
    {
     "name": "stdout",
     "output_type": "stream",
     "text": [
      "0     0.000029\n",
      "1     0.000080\n",
      "2     0.000077\n",
      "3     0.000022\n",
      "4     0.000023\n",
      "5     0.000097\n",
      "6     0.000028\n",
      "7     0.000117\n",
      "8     0.000001\n",
      "9     0.000118\n",
      "10    0.000004\n",
      "11    0.000116\n",
      "12    0.000021\n",
      "13    0.000093\n",
      "14    0.000050\n",
      "15    0.000012\n",
      "16    0.000060\n",
      "17    0.000076\n",
      "18    0.000011\n",
      "19    0.000034\n",
      "20    0.000006\n",
      "dtype: float64 0.0010739152360807382 0    0.001074\n",
      "dtype: float64\n"
     ]
    },
    {
     "data": {
      "image/png": "[encoded data removed]",
      "text/plain": [
       "<Figure size 432x288 with 1 Axes>"
      ]
     },
     "metadata": {
      "needs_background": "light"
     },
     "output_type": "display_data"
    }
   ],
   "source": [
    "ax = res_intersection.plot(cmap='tab10')\n",
    "ax = gdf.loc[[0], 'geometry'].plot(ax=ax, facecolor='none', edgecolor='k')\n",
    "precise_matches.plot(ax=ax, facecolor='none', edgecolor='k')\n",
    "print(res_intersection.area, np.sum(res_intersection.area), gdf.loc[[0], 'geometry'].area)"
   ]
  },
  {
   "cell_type": "code",
   "execution_count": null,
   "metadata": {},
   "outputs": [],
   "source": [
    "print(ds.lon.shape)\n",
    "x1 = ds.lon[1,1].values\n",
    "y1 = ds.lat[1,1].values\n",
    "x2 = ds.lon[2,1].values\n",
    "y2 = ds.lat[2,1].values\n",
    "latdist = np.sqrt(np.power(x2-x1, 2) + np.power(y2-y1,2))\n",
    "print(latdist)\n",
    "print(latdist*4)\n",
    "x1 = ds.lon[1,1].values\n",
    "y1 = ds.lat[1,1].values\n",
    "x2 = ds.lon[1,2].values\n",
    "y2 = ds.lat[1,2].values\n",
    "latdist = np.sqrt(np.power(x2-x1, 2) + np.power(y2-y1,2))\n",
    "print(latdist)\n",
    "print(latdist*4)\n",
    "# print(ds.lon[2,1].values, ds.lon[1,1].values)\n",
    "# print((ds.lon[2,1].values - ds.lon[1,1].values))\n",
    "# print(ds.lat[2,1].values, ds.lat[1,1].values)\n",
    "# print(ds.lat[2,1].values - ds.lat[1,1].values)"
   ]
  },
  {
   "cell_type": "code",
   "execution_count": null,
   "metadata": {},
   "outputs": [],
   "source": [
    "for i in range(1,11):\n",
    "    x1 = ds.lon[i,1].values\n",
    "    y1 = ds.lat[i,1].values\n",
    "    x2 = ds.lon[i+1,1].values\n",
    "    y2 = ds.lat[i+1,1].values\n",
    "    latdist = np.sqrt(np.power(x2-x1, 2) + np.power(y2-y1,2))\n",
    "    print(latdist)\n",
    "for i in range(1,11):\n",
    "    x1 = ds.lon[1,i].values\n",
    "    y1 = ds.lat[1,i].values\n",
    "    x2 = ds.lon[1,i+1].values\n",
    "    y2 = ds.lat[1,i+1].values\n",
    "    latdist = np.sqrt(np.power(x2-x1, 2) + np.power(y2-y1,2))\n",
    "    print(latdist)"
   ]
  },
  {
   "cell_type": "code",
   "execution_count": null,
   "metadata": {},
   "outputs": [],
   "source": [
    "print(np.nanmean(ptmax_1.values))\n",
    "print(np.nanmin(ptmax_1.values))\n",
    "print(np.nanmax(ptmax_1.values))\n",
    "\n",
    "ptmax_1"
   ]
  },
  {
   "cell_type": "code",
   "execution_count": null,
   "metadata": {},
   "outputs": [],
   "source": [
    "earth_radius = 6371008.7714\n",
    "degrees_to_radians = math.pi/180.0\n",
    "radians_to_degrees = 180.0/math.pi\n",
    "\n",
    "def change_in_latitude(m):\n",
    "    \"Given a distance north, return the change in latitude.\"\n",
    "    return (m/earth_radius)*radians_to_degrees\n",
    "\n",
    "def change_in_longitude(latitude, m):\n",
    "    \"Given a latitude and a distance west, return the change in longitude.\"\n",
    "    # Find the radius of a circle around the earth at given latitude.\n",
    "    r = earth_radius*math.cos(latitude*degrees_to_radians)\n",
    "    return (m/r)*radians_to_degrees\n",
    "\n",
    "print(change_in_latitude(1000.0), change_in_longitude(40, 1000.0))\n",
    "print(change_in_latitude(4000.0), change_in_longitude(40, 4000.0))"
   ]
  },
  {
   "cell_type": "code",
   "execution_count": null,
   "metadata": {},
   "outputs": [],
   "source": []
  }
 ],
 "metadata": {
  "kernelspec": {
   "display_name": "Python 3",
   "language": "python",
   "name": "python3"
  },
  "language_info": {
   "codemirror_mode": {
    "name": "ipython",
    "version": 3
   },
   "file_extension": ".py",
   "mimetype": "text/x-python",
   "name": "python",
   "nbconvert_exporter": "python",
   "pygments_lexer": "ipython3",
   "version": "3.6.9"
  }
 },
 "nbformat": 4,
 "nbformat_minor": 4
}
