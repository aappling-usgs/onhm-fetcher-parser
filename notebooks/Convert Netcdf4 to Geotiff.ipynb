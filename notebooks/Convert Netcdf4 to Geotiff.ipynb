{
 "cells": [
  {
   "cell_type": "code",
   "execution_count": 1,
   "metadata": {},
   "outputs": [
    {
     "name": "stderr",
     "output_type": "stream",
     "text": [
      "C:\\Users\\rmcd\\anaconda3\\envs\\gridmet_3\\lib\\site-packages\\dask\\config.py:168: YAMLLoadWarning: calling yaml.load() without Loader=... is deprecated, as the default Loader is unsafe. Please read https://msg.pyyaml.org/load for full details.\n",
      "  data = yaml.load(f.read()) or {}\n",
      "C:\\Users\\rmcd\\anaconda3\\envs\\gridmet_3\\lib\\site-packages\\distributed\\config.py:20: YAMLLoadWarning: calling yaml.load() without Loader=... is deprecated, as the default Loader is unsafe. Please read https://msg.pyyaml.org/load for full details.\n",
      "  defaults = yaml.load(f)\n"
     ]
    }
   ],
   "source": [
    "from netCDF4 import Dataset\n",
    "import matplotlib as pyplot\n",
    "import numpy as np\n",
    "import xarray as xr\n",
    "from osgeo import gdal, osr, gdal_array\n",
    "import rasterio"
   ]
  },
  {
   "cell_type": "code",
   "execution_count": 2,
   "metadata": {},
   "outputs": [
    {
     "name": "stdout",
     "output_type": "stream",
     "text": [
      "http://thredds.northwestknowledge.net:8080/thredds/dodsC/MET/tmmx/tmmx_2019.nc\n"
     ]
    }
   ],
   "source": [
    "#=========================================================\n",
    "#            MACAV2METDATA FILE PARAMETERS\n",
    "#=========================================================\n",
    "dirPath='http://thredds.northwestknowledge.net:8080'\n",
    "fileName='/thredds/dodsC/MET/tmmx/tmmx_2019.nc'\n",
    "\n",
    "#--------------------------------------------------------\n",
    "#   FORM FILENAME AND GET HANDLE TO FILE AND DATA\n",
    "#--------------------------------------------------------\n",
    "fullfilename= dirPath+fileName\n",
    "print(fullfilename)"
   ]
  },
  {
   "cell_type": "code",
   "execution_count": 3,
   "metadata": {},
   "outputs": [
    {
     "name": "stdout",
     "output_type": "stream",
     "text": [
      "<xarray.DataArray 'crs' (crs: 1)>\n",
      "array([1])\n",
      "Coordinates:\n",
      "  * crs      (crs) int32 1\n",
      "Attributes:\n",
      "    long_name:                    WGS 84\n",
      "    grid_mapping_name:            latitude_longitude\n",
      "    longitude_of_prime_meridian:  0.0\n",
      "    semi_major_axis:              6378137.0\n",
      "    inverse_flattening:           298.257223563\n",
      "    GeoTransform:                 -124.7666666333333 0.041666666666666 0  49....\n",
      "    spatial_ref:                  GEOGCS[\"WGS 84\",DATUM[\"WGS_1984\",SPHEROID[\"...\n",
      "OrderedDict([('geospatial_bounds_crs', 'EPSG:4326'), ('Conventions', 'CF-1.6'), ('geospatial_bounds', 'POLYGON((-124.7666666333333 49.400000000000000, -124.7666666333333 25.066666666666666, -67.058333300000015 25.066666666666666, -67.058333300000015 49.400000000000000, -124.7666666333333 49.400000000000000))'), ('geospatial_lat_min', '25.066666666666666'), ('geospatial_lat_max', '49.40000000000000'), ('geospatial_lon_min', '-124.7666666333333'), ('geospatial_lon_max', '-67.058333300000015'), ('geospatial_lon_resolution', '0.041666666666666'), ('geospatial_lat_resolution', '0.041666666666666'), ('geospatial_lat_units', 'decimal_degrees north'), ('geospatial_lon_units', 'decimal_degrees east'), ('coordinate_system', 'EPSG:4326'), ('author', 'John Abatzoglou - University of Idaho, jabatzoglou@uidaho.edu'), ('datee', '28 March 2019'), ('note1', 'The projection information for this file is: GCS WGS 1984.'), ('note2', 'Citation: Abatzoglou, J.T., 2013, Development of gridded surface meteorological data for ecological applications and modeling, International Journal of Climatology, DOI: 10.1002/joc.3413'), ('last_permanent_slice', '26'), ('last_provisional_slice', '80'), ('note3', 'Data in slices after last_permanent_slice (1-based) are considered provisional and subject to change with subsequent updates'), ('note4', 'Data in slices after last_provisional_slice (1-based) are considered early and subject to change with subsequent updates'), ('note5', 'Days correspond approximately to calendar days ending at midnight, Mountain Standard Time (7 UTC the next calendar day)')])\n",
      "POLYGON((-124.7666666333333 49.400000000000000, -124.7666666333333 25.066666666666666, -67.058333300000015 25.066666666666666, -67.058333300000015 49.400000000000000, -124.7666666333333 49.400000000000000))\n",
      "-124.7666666333333\n",
      "49.40000000000000\n",
      "0.041666666666666\n",
      "0.041666666666666\n",
      "<class 'float'>\n",
      "OrderedDict([('units', 'K'), ('description', 'Daily Maximum Temperature'), ('grid_mapping', 'crs'), ('cell_methods', 'time: maximum(interval: 24 hours)'), ('height', '2 m')])\n",
      "Frozen(OrderedDict([('day', 86), ('lat', 585), ('lon', 1386)]))\n",
      "Coordinates:\n",
      "  * lon      (lon) float64 -124.8 -124.7 -124.7 -124.6 ... -67.14 -67.1 -67.06\n",
      "  * lat      (lat) float64 25.07 25.11 25.15 25.19 ... 49.28 49.32 49.36 49.4\n",
      "  * day      (day) datetime64[ns] 2019-01-01 2019-01-02 ... 2019-03-27\n",
      "86 585 1386\n",
      "(585,)\n",
      "<class 'numpy.ndarray'>\n",
      "float32\n",
      "False\n"
     ]
    }
   ],
   "source": [
    "\n",
    "ds = xr.open_dataset(fullfilename)\n",
    "# df = ds.to_dataframe()\n",
    "# print(ds.attrs)\n",
    "lathandle=ds['lat']\n",
    "lonhandle=ds['lon']\n",
    "timehandle=ds['day']\n",
    "datahandle=ds['air_temperature']\n",
    "crshandle=ds['crs']\n",
    "print(crshandle)\n",
    "print(ds.attrs)\n",
    "print(ds.attrs['geospatial_bounds'])\n",
    "print(ds.attrs['geospatial_lon_min'])\n",
    "print(ds.attrs['geospatial_lat_max'])\n",
    "print(ds.attrs['geospatial_lat_resolution'])\n",
    "print(ds.attrs['geospatial_lon_resolution'])\n",
    "lonmin = float(ds.attrs['geospatial_lon_min'])\n",
    "latmax = float(ds.attrs['geospatial_lat_max'])\n",
    "lonres = float(ds.attrs['geospatial_lon_resolution'])\n",
    "latres = float(ds.attrs['geospatial_lon_resolution'])\n",
    "print(type(lonmin))\n",
    "print(datahandle.attrs)\n",
    "print(datahandle.sizes)\n",
    "print(datahandle.coords)\n",
    "dayshape,lonshape,latshape = datahandle.values.shape\n",
    "print(dayshape,lonshape,latshape)\n",
    "datahandle.values[85-1,:,:].shape\n",
    "print(lathandle.values.shape)\n",
    "print(type(lathandle.values))\n",
    "print(datahandle.dtype)\n",
    "print(np.isfortran(datahandle.values))"
   ]
  },
  {
   "cell_type": "markdown",
   "metadata": {},
   "source": [
    "https://rasterio.readthedocs.io/en/stable/api/rasterio.transform.html#rasterio.transform.from_origin\n",
    "Return an Affine transformation for a georeferenced raster given the coordinates of its upper left corner west, north and pixel sizes xsize, ysize.\n",
    "\n",
    "https://gis.stackexchange.com/questions/279953/numpy-array-to-gtiff-using-rasterio-without-source-raster\n",
    "\n",
    "See also for perhaps some tips: https://github.com/Solcast/netcdf-tiff/blob/master/src/goes16_converter.py\n"
   ]
  },
  {
   "cell_type": "code",
   "execution_count": 16,
   "metadata": {},
   "outputs": [
    {
     "name": "stdout",
     "output_type": "stream",
     "text": [
      "0.04163660413660413\n",
      "| 0.04, 0.00,-124.77|\n",
      "| 0.00,-0.04, 49.40|\n",
      "| 0.00, 0.00, 1.00| | 0.04, 0.00,-124.79|\n",
      "| 0.00,-0.04, 49.42|\n",
      "| 0.00, 0.00, 1.00|\n",
      "(585, 1386)\n"
     ]
    }
   ],
   "source": [
    "%matplotlib inline\n",
    "from rasterio.transform import from_origin\n",
    "lat = lathandle.values\n",
    "lon = lonhandle.values\n",
    "# transform = from_origin(472137, 5015782, 0.5, 0.5)\n",
    "transform = from_origin( lonmin, latmax, lonres, latres)\n",
    "res = (lon[-1] - lon[0])/lon.shape[0]\n",
    "print(res)\n",
    "transform2 = from_origin(lon[0]-res/2, lat[-1]+res/2, res, res) \n",
    "print(transform, transform2)\n",
    "new_dataset = rasterio.open(r'C:\\Users\\rmcd\\Documents\\oNHM\\GeospatialFabric_1\\nhru\\unzip\\test1.tif', 'w', driver='GTiff',\n",
    "                            height = lonshape, width = latshape,\n",
    "                            count=1, dtype=str(datahandle.dtype),\n",
    "                            crs={'init': 'epsg:4326'},\n",
    "                            transform=transform)\n",
    "# vals = np.transpose(datahandle.values, [1,2,0])\n",
    "# vals2 = vals[:,:,85-1]\n",
    "vals = datahandle.values[85-1, :, :]\n",
    "print(vals.shape)\n",
    "# im = np.transpose(vals, [1,2,0])\n",
    "# fa = np.asfortranarray(vals)\n",
    "# ca = np.asanyarray(vals, order='C')\n",
    "ud = np.flipud(vals)\n",
    "# at = np.transpose(vals)\n",
    "# atf = np.rot90(at)\n",
    "new_dataset.write(ud, 1)\n",
    "# new_dataset.warp.transform\n",
    "# print(new_dataset.transform)\n",
    "# pyplot.imshow(new_dataset.read(1), cmap='pink')\n",
    "# pyplot.show()\n",
    "new_dataset.close()"
   ]
  },
  {
   "cell_type": "code",
   "execution_count": 11,
   "metadata": {},
   "outputs": [
    {
     "name": "stdout",
     "output_type": "stream",
     "text": [
      "BoundingBox(left=-124.78748493540165, bottom=-8.287515031265023, right=-100.43007151548824, top=49.420818302068305)\n",
      "| 0.04, 0.00,-124.79|\n",
      "| 0.00,-0.04, 49.42|\n",
      "| 0.00, 0.00, 1.00|\n"
     ]
    }
   ],
   "source": [
    "dataset = rasterio.open(r'C:\\Users\\rmcd\\Documents\\oNHM\\GeospatialFabric_1\\nhru\\unzip\\test1.tif')\n",
    "print(dataset.bounds)\n",
    "print(dataset.transform)\n",
    "dataset.close()"
   ]
  },
  {
   "cell_type": "code",
   "execution_count": null,
   "metadata": {},
   "outputs": [],
   "source": [
    "import osr\n",
    "src_ds = gdal.Open(r'C:\\Users\\rmcd\\Documents\\oNHM\\GeospatialFabric_1\\nhru\\unzip\\tmmx_2019.nc')\n",
    "Projection = osr.SpatialReference()\n",
    "print(src_ds.GetProjectionRef())\n",
    "Projection.ImportFromWkt(src_ds.GetProjectionRef())\n",
    "# GeoT = src_ds.osr.SpatialTransform()\n",
    "# print(GeoT)\n",
    "print(type(Projection))\n",
    "if src_ds is None:\n",
    "    print(\"Open failed\")\n",
    "subdatasets = ds_in.GetSubDatasets()\n",
    "variables = []\n",
    "for subdataset in subdatasets:\n",
    "    variables.append(subdataset[1].split(\" \")[1])\n",
    "print(src_ds)"
   ]
  },
  {
   "cell_type": "code",
   "execution_count": null,
   "metadata": {},
   "outputs": [],
   "source": [
    "def GetnetCDFInfobyName(in_filename, var_name):\n",
    "    '''Function to read the original file's projection '''\n",
    "    #Open netCDF file\n",
    "    src_ds = gdal.Open(in_filename)\n",
    "    if src_ds is None:\n",
    "        print(\"Open failed\")\n",
    "        #sys.exit()\n",
    "    #if src_ds.GetSubDatasets() > 1:\n",
    "    #if exists more than one var in netCDF...\n",
    "    subdataset = 'NETCDF:\"'+ in_filename +'\":'+ var_name\n",
    "    print(subdataset)\n",
    "    src_ds_sd = gdal.Open(subdataset)\n",
    "    # read info\n",
    "    NDV = src_ds_sd.GetRasterBand(1).GetNoDataValue()\n",
    "    xsize = src_ds_sd.RasterXSize\n",
    "    ysize = src_ds_sd.RasterYSize\n",
    "    GeoT = src_ds_sd.osr.SpatialTransform()\n",
    "    Projection = osr.SpatialReference()\n",
    "    Projection.ImportFromWkt(src_ds_sd.GetProjectionRef())\n",
    "    #close subdataset and whole dataset\n",
    "    src_ds_sd = None\n",
    "    src_ds = None\n",
    "    # read data using xarray\n",
    "    xr_ensemble = xr.open_dataset(in_filename)\n",
    "    data = xr_ensemble[var_name]\n",
    "    data = np.ma.masked_array(data, mask=data==NDV, fill_value=NDV)\n",
    "        \n",
    "    return NDV, xsize, ysize, GeoT, Projection, data"
   ]
  },
  {
   "cell_type": "code",
   "execution_count": null,
   "metadata": {},
   "outputs": [],
   "source": [
    "import os\n",
    "unzip_dir = r'C:\\Users\\rmcd\\Documents\\oNHM\\GeospatialFabric_1\\nhru\\unzip'\n",
    "os.chdir(unzip_dir)\n",
    "tfile = 'tmmx_2019.nc'\n",
    "ds = xr.open_dataset(tfile)\n",
    "print(ds)\n",
    "filename_w_ext = os.path.basename(fullfilename)\n",
    "print(filename_w_ext)\n",
    "ds.to_netcdf(filename_w_ext)\n",
    "# print(gdal.Open(filename_w_ext))"
   ]
  },
  {
   "cell_type": "code",
   "execution_count": null,
   "metadata": {},
   "outputs": [],
   "source": [
    "print(os.getcwd(), filename_w_ext)\n",
    "ds_in = gdal.Open(filename_w_ext)\n",
    "print(ds_in)\n",
    "\n",
    "subdatasets = ds_in.GetSubDatasets()\n",
    "print(subdatasets)\n",
    "variables = []\n",
    "for subdataset in subdatasets:\n",
    "    variables.append(subdataset[1].split(\" \")[1])\n",
    "\n",
    "print(variables)\n",
    "\n",
    "\n",
    "\n",
    "# print(GetnetCDFInfobyName(filename_w_ext, 'air_temperature'))"
   ]
  },
  {
   "cell_type": "code",
   "execution_count": null,
   "metadata": {},
   "outputs": [],
   "source": []
  }
 ],
 "metadata": {
  "kernelspec": {
   "display_name": "Python 3",
   "language": "python",
   "name": "python3"
  },
  "language_info": {
   "codemirror_mode": {
    "name": "ipython",
    "version": 3
   },
   "file_extension": ".py",
   "mimetype": "text/x-python",
   "name": "python",
   "nbconvert_exporter": "python",
   "pygments_lexer": "ipython3",
   "version": "3.6.8"
  }
 },
 "nbformat": 4,
 "nbformat_minor": 2
}
